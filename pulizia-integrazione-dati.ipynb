{
 "metadata": {
  "language_info": {
   "codemirror_mode": {
    "name": "ipython",
    "version": 3
   },
   "file_extension": ".py",
   "mimetype": "text/x-python",
   "name": "python",
   "nbconvert_exporter": "python",
   "pygments_lexer": "ipython3",
   "version": "3.8.8"
  },
  "orig_nbformat": 2,
  "kernelspec": {
   "name": "python388jvsc74a57bd0743cc418bf85dc03c7a8b2e88c0c4a43aa5b803c26546c0935c684a5ec19e593",
   "display_name": "Python 3.8.8 64-bit ('base': conda)"
  }
 },
 "nbformat": 4,
 "nbformat_minor": 2,
 "cells": [
  {
   "source": [
    "# Pulizia e integrazione dei dati"
   ],
   "cell_type": "markdown",
   "metadata": {}
  },
  {
   "cell_type": "code",
   "execution_count": 1,
   "metadata": {},
   "outputs": [],
   "source": [
    "import pandas as pd\n",
    "import statistics\n",
    "import json\n",
    "import requests\n",
    "import time\n",
    "import progressbar"
   ]
  },
  {
   "cell_type": "code",
   "execution_count": 2,
   "metadata": {},
   "outputs": [],
   "source": [
    "# Si recuperano i dati aulla mobilità di Google.\n",
    "mobilita_google_2020 = pd.read_csv('allegati/dataset/raw/mobilita-google-2020.csv')"
   ]
  },
  {
   "cell_type": "code",
   "execution_count": 3,
   "metadata": {},
   "outputs": [
    {
     "output_type": "stream",
     "name": "stdout",
     "text": [
      "Eliminazione delle righe non necessarie.\n",
      "100% (40764 of 40764) |##################| Elapsed Time: 0:00:07 Time:  0:00:07\n"
     ]
    }
   ],
   "source": [
    "# Si pulisce il dataset relativo alla mobilità. Si inizializza una variabile per accogliere gli indici delle righe da eliminare.\n",
    "righe_da_eliminare = []\n",
    "\n",
    "# Si inizializza la progressbar.\n",
    "print('Eliminazione delle righe non necessarie.')\n",
    "# Si blocca il sistema per allineare le print.\n",
    "time.sleep(1)\n",
    "with progressbar.ProgressBar(max_value=len(mobilita_google_2020)) as bar_eliminazione:\n",
    "    # Per ogni riga...\n",
    "    for riga in mobilita_google_2020.iterrows():\n",
    "        # ... se il dato non è relativo alla media giornaliera della lombardia e la data non è nel periodo di riferimento, si aggiunge la riga a quelle da eliminare.\n",
    "        if riga[1]['sub_region_1'] != 'Lombardy':\n",
    "            righe_da_eliminare.append(riga[0])\n",
    "        elif not pd.isnull(riga[1]['sub_region_2']):\n",
    "            righe_da_eliminare.append(riga[0])\n",
    "        elif riga[1]['date'].split('-')[1] in ['01', '02']:\n",
    "            righe_da_eliminare.append(riga[0])\n",
    "        # Si aggiorna la progressbar.\n",
    "        bar_eliminazione.update(riga[0])\n",
    "    \n",
    "# Si eliminalo le righe.    \n",
    "mobilita_google_2020 = mobilita_google_2020.drop(righe_da_eliminare)\n",
    "\n",
    "# Si eliminano le colonne 'country_region_code', 'country_region', 'sub_region_1', 'sub_region_2', 'metro_area', 'iso_3166_2_code', 'census_fips_code', 'place_id'.\n",
    "mobilita_google_2020 = mobilita_google_2020.drop(['country_region_code', 'country_region', 'sub_region_1', 'sub_region_2', 'metro_area', 'iso_3166_2_code', 'census_fips_code', 'place_id'], axis=1)\n",
    "\n",
    "# Si salva il dataset pulito.\n",
    "mobilita_google_2020.to_csv('allegati/dataset/mobilita-lombardia-2020.csv')"
   ]
  },
  {
   "cell_type": "code",
   "execution_count": 4,
   "metadata": {},
   "outputs": [
    {
     "output_type": "stream",
     "name": "stdout",
     "text": [
      "Spacchettamento dei dati.\n",
      "100% (306 of 306) |######################| Elapsed Time: 0:00:06 Time:  0:00:06\n"
     ]
    }
   ],
   "source": [
    "# Si recupera il dataset parziale.\n",
    "mobilita_google_2020 = pd.read_csv('allegati/dataset/mobilita-lombardia-2020.csv')\n",
    "\n",
    "# Si inizializza una variabile contenete il dataset spacchettato.\n",
    "dataset_spacchettato = pd.DataFrame(columns=['Data', 'Tipo', 'Valore'])\n",
    "\n",
    "# Si inizializza una nuova progress bar per lo spacchettamento dei dati.\n",
    "print('Spacchettamento dei dati.')\n",
    "# Si blocca il sistema per allineare le print.\n",
    "time.sleep(1)\n",
    "with progressbar.ProgressBar(max_value=len(mobilita_google_2020)) as bar_spacchettamento:\n",
    "    # Si inizializza una lista contenente i tipi delle misurazioni.\n",
    "    tipi = ['retail_and_recreation', 'grocery_and_pharmacy', 'parks', 'transit_stations', 'workplaces', 'residential']\n",
    "    suffisso = '_percent_change_from_baseline'\n",
    "\n",
    "    # Per ogni riga del nuovo dataset...\n",
    "    for indice, riga in zip(range(1, len(mobilita_google_2020)), mobilita_google_2020.iterrows()):\n",
    "        # ... per ogni tipo di misurazione...\n",
    "        for tipo in tipi:\n",
    "            # ... si crea la nuova riga...\n",
    "            nuova_riga = dict(Data=riga[1]['date'].replace('-', '/'), Tipo=tipo, Valore=riga[1][tipo + suffisso])\n",
    "            # ... e la si inserisce nel dataset.\n",
    "            dataset_spacchettato = dataset_spacchettato.append(nuova_riga, ignore_index=True)\n",
    "        # Si aggiorna la progressbar.\n",
    "        bar_spacchettamento.update(indice)\n",
    "\n",
    "# Si salva il dataset pulito.\n",
    "dataset_spacchettato.to_csv('allegati/dataset/mobilita-lombardia-2020.csv')"
   ]
  },
  {
   "source": [
    "Si crea ora un dataset per visualizzare i record su una mappa."
   ],
   "cell_type": "markdown",
   "metadata": {}
  },
  {
   "cell_type": "code",
   "execution_count": 5,
   "metadata": {},
   "outputs": [],
   "source": [
    "# Si recuperano i dati aulla mobilità di Google raw.\n",
    "mobilita_mappa_google_2020 = pd.read_csv('allegati/dataset/raw/mobilita-google-2020.csv')"
   ]
  },
  {
   "cell_type": "code",
   "execution_count": 6,
   "metadata": {},
   "outputs": [
    {
     "output_type": "stream",
     "name": "stdout",
     "text": [
      "Eliminazione delle righe non necessarie.\n",
      "100% (40764 of 40764) |##################| Elapsed Time: 0:00:05 Time:  0:00:05\n"
     ]
    }
   ],
   "source": [
    "# Si pulisce il dataset relativo alla mobilità. Si inizializza una variabile per accogliere gli indici delle righe da eliminare.\n",
    "righe_da_eliminare = []\n",
    "\n",
    "# Si inizializza la progressbar.\n",
    "print('Eliminazione delle righe non necessarie.')\n",
    "# Si blocca il sistema per allineare le print.\n",
    "time.sleep(1)\n",
    "with progressbar.ProgressBar(max_value=len(mobilita_mappa_google_2020)) as bar_eliminazione:\n",
    "    # Per ogni riga...\n",
    "    for riga in mobilita_mappa_google_2020.iterrows():\n",
    "        # ... se il dato non è relativo alla media giornaliera della lombardia e la data non è nel periodo di riferimento, si aggiunge la riga a quelle da eliminare.\n",
    "        if riga[1]['sub_region_1'] != 'Lombardy':\n",
    "            righe_da_eliminare.append(riga[0])\n",
    "        elif pd.isnull(riga[1]['sub_region_2']):\n",
    "            righe_da_eliminare.append(riga[0])\n",
    "        elif riga[1]['date'].split('-')[1] in ['01', '02']:\n",
    "            righe_da_eliminare.append(riga[0])\n",
    "        # Si aggiorna la progressbar.\n",
    "        bar_eliminazione.update(riga[0])\n",
    "    \n",
    "# Si eliminalo le righe.    \n",
    "mobilita_mappa_google_2020 = mobilita_mappa_google_2020.drop(righe_da_eliminare)\n",
    "\n",
    "# Si eliminano le colonne 'country_region_code', 'country_region', 'sub_region_1', 'sub_region_2', 'metro_area', 'iso_3166_2_code', 'census_fips_code', 'place_id'.\n",
    "mobilita_mappa_google_2020 = mobilita_mappa_google_2020.drop(['country_region_code', 'country_region', 'sub_region_1', 'metro_area', 'iso_3166_2_code', 'census_fips_code', 'place_id'], axis=1)\n",
    "\n",
    "# Si salva il dataset pulito.\n",
    "mobilita_mappa_google_2020.to_csv('allegati/dataset/mobilita-mappa-lombardia-2020.csv')"
   ]
  },
  {
   "cell_type": "code",
   "execution_count": 7,
   "metadata": {},
   "outputs": [
    {
     "output_type": "stream",
     "name": "stdout",
     "text": [
      "Spacchettamento dei dati.\n",
      "100% (3672 of 3672) |####################| Elapsed Time: 0:00:10 Time:  0:00:10\n"
     ]
    }
   ],
   "source": [
    "# Si recupera il dataset parziale.\n",
    "mobilita_mappa_google_2020 = pd.read_csv('allegati/dataset/mobilita-mappa-lombardia-2020.csv')\n",
    "\n",
    "# Si inizializza un dataset per la creazione della mappa.\n",
    "mobilita_mappa = pd.DataFrame(columns=['Valore', 'Provincia'])\n",
    "\n",
    "# Si inizializza una nuova progress bar per lo spacchettamento dei dati.\n",
    "print('Spacchettamento dei dati.')\n",
    "# Si blocca il sistema per allineare le print.\n",
    "time.sleep(1)\n",
    "with progressbar.ProgressBar(max_value=len(mobilita_mappa_google_2020)) as bar_spacchettamento:\n",
    "    # Si inizializza una lista contenente i tipi delle misurazioni.\n",
    "    tipi = ['retail_and_recreation', 'grocery_and_pharmacy', 'parks', 'transit_stations', 'workplaces', 'residential']\n",
    "    suffisso = '_percent_change_from_baseline'\n",
    "\n",
    "    # Per ogni riga del nuovo dataset...\n",
    "    for indice, riga in zip(range(1, len(mobilita_mappa_google_2020)), mobilita_mappa_google_2020.iterrows()):\n",
    "        # ... per ogni tipo di misurazione si sommano i valori...\n",
    "        media = 0\n",
    "        for tipo in tipi:\n",
    "            # ... aggiunge il valore alla variabile.\n",
    "            media += riga[1][tipo + suffisso]\n",
    "        # Si calcola la media.\n",
    "        media = media / len(tipi)\n",
    "\n",
    "        # Se la media è NaN, si evita di aggiungere il record.\n",
    "        if not pd.isnull(media) :\n",
    "            # Si estrae il nome della provincia.\n",
    "            provincia = ''\n",
    "            if riga[1]['sub_region_2'] == 'Province of Monza and Brianza':\n",
    "                provincia = 'Monza'\n",
    "            else:\n",
    "                provincia = riga[1]['sub_region_2'].split(' ')[-1]\n",
    "\n",
    "            # Si aggiunge il record al dataset.\n",
    "            nuova_riga = dict(Valore=media, Provincia=provincia)\n",
    "            mobilita_mappa = mobilita_mappa.append(nuova_riga, ignore_index=True)\n",
    "\n",
    "        # Si aggiorna la progressbar.\n",
    "        bar_spacchettamento.update(indice)\n",
    "\n",
    "# Si salva il dataset pulito.\n",
    "mobilita_mappa.to_csv('allegati/dataset/mobilita-mappa-lombardia-2020.csv')"
   ]
  },
  {
   "cell_type": "code",
   "execution_count": 8,
   "metadata": {},
   "outputs": [
    {
     "output_type": "stream",
     "name": "stdout",
     "text": [
      "Calcolo medie per provincia.\n",
      "100% (12 of 12) |########################| Elapsed Time: 0:00:03 Time:  0:00:03\n"
     ]
    }
   ],
   "source": [
    "# Si recupera il dataset parziale.\n",
    "mobilita_mappa_google_2020 = pd.read_csv('allegati/dataset/mobilita-mappa-lombardia-2020.csv')\n",
    "\n",
    "# Si inizializza un dataset per la creazione della mappa.\n",
    "mobilita_mappa = pd.DataFrame(columns=['Valore', 'Provincia'])\n",
    "\n",
    "# Si inizializza una lista contenente le province delle misurazioni.\n",
    "province = ['Milan', 'Bergamo', 'Brescia', 'Como', 'Cremona', 'Lecco', 'Lodi', 'Mantua', 'Monza', 'Pavia', 'Sondrio', 'Varese']\n",
    "\n",
    "# Si inizializza una nuova progress bar per la media delle province.\n",
    "print('Calcolo medie per provincia.')\n",
    "# Si blocca il sistema per allineare le print.\n",
    "time.sleep(1)\n",
    "with progressbar.ProgressBar(max_value=len(province)) as bar_medie:\n",
    "    # Per ogni provincia nel dataset...\n",
    "    for indice, provincia in zip(range(0, len(province)), province):\n",
    "        # Si dichiara la variabile contenente la media.\n",
    "        media_provincia = 0\n",
    "        contatore_provincia = 0\n",
    "        # Per ogni riga del nuovo dataset...\n",
    "        for riga in mobilita_mappa_google_2020.iterrows():\n",
    "            # ... per ogni tipo di misurazione si sommano i valori se della stessa provincia...\n",
    "            if riga[1]['Provincia'] == provincia:\n",
    "                # ... aggiunge il valore alla variabile e si incrementa il contatore.\n",
    "                media_provincia += riga[1]['Valore']\n",
    "                contatore_provincia += 1\n",
    "        \n",
    "        # Si calcola la media.\n",
    "        media_provincia = media_provincia / contatore_provincia\n",
    "\n",
    "        # Si aggiunge il record.\n",
    "        nuova_riga = dict(Valore=media_provincia, Provincia=provincia)\n",
    "        mobilita_mappa = mobilita_mappa.append(nuova_riga, ignore_index=True)\n",
    "\n",
    "        # Si aggiorna la progressbar.\n",
    "        bar_medie.update(indice)\n",
    "\n",
    "# Si salva il dataset pulito.\n",
    "mobilita_mappa.to_csv('allegati/dataset/mobilita-mappa-lombardia-2020.csv')"
   ]
  },
  {
   "cell_type": "code",
   "execution_count": 9,
   "metadata": {},
   "outputs": [],
   "source": [
    "# Si recupera il token pubblico di Mapbox.\n",
    "token_mapbox = json.load(open('allegati/token-mapbox.json'))['token']"
   ]
  },
  {
   "cell_type": "code",
   "execution_count": 10,
   "metadata": {},
   "outputs": [
    {
     "output_type": "stream",
     "name": "stdout",
     "text": [
      "Calcolo delle coordinate.\n",
      "100% (12 of 12) |########################| Elapsed Time: 0:00:04 Time:  0:00:04\n"
     ]
    }
   ],
   "source": [
    "# Si recupera il dataset parziale.\n",
    "mobilita_mappa_google_2020 = pd.read_csv('allegati/dataset/mobilita-mappa-lombardia-2020.csv')\n",
    "\n",
    "# Si inizializza un dataset per la creazione della mappa con le coordinate.\n",
    "mobilita_mappa = pd.DataFrame(columns=['Valore', 'Provincia', 'Latitudine', 'Longitudine'])\n",
    "\n",
    "# Si inizializza una nuova progress bar per la media delle province.\n",
    "print('Calcolo delle coordinate.')\n",
    "# Si blocca il sistema per allineare le print.\n",
    "time.sleep(1)\n",
    "with progressbar.ProgressBar(max_value=len(province)) as bar_coordinate:\n",
    "    # Per ogni riga del dataset...\n",
    "    for indice, riga in zip(range(0, len(mobilita_mappa_google_2020)), mobilita_mappa_google_2020.iterrows()):\n",
    "        # Si richiedono le coordinate.\n",
    "        citta = '%20'.join(riga[1]['Provincia'].split(' '))\n",
    "        coordinate = requests.get('https://api.mapbox.com/geocoding/v5/mapbox.places/' + citta + '%20Italy.json?access_token=' + token_mapbox).json()['features'][0]['center']\n",
    "        \n",
    "        # Si aggiunge la riga.\n",
    "        nuova_riga = dict(Valore=riga[1]['Valore'], Provincia=riga[1]['Provincia'], Latitudine=coordinate[1], Longitudine=coordinate[0])\n",
    "        mobilita_mappa = mobilita_mappa.append(nuova_riga, ignore_index=True)\n",
    "\n",
    "        # Si incrementa la progressbar.\n",
    "        bar_coordinate.update(indice)\n",
    "\n",
    "# Si salva il dataset completo.\n",
    "mobilita_mappa.to_csv('allegati/dataset/mobilita-mappa-lombardia-2020.csv')"
   ]
  }
 ]
}